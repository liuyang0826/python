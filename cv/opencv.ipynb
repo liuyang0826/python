{
 "cells": [
  {
   "cell_type": "code",
   "execution_count": null,
   "id": "981e93ad",
   "metadata": {},
   "outputs": [],
   "source": [
    "import cv2\n",
    "import numpy as np\n",
    "import matplotlib.pyplot as plt\n",
    "%matplotlib inline"
   ]
  },
  {
   "cell_type": "code",
   "execution_count": null,
   "id": "8fc30bf4",
   "metadata": {
    "scrolled": false
   },
   "outputs": [],
   "source": [
    "img = cv2.imread(\"test.png\")\n",
    "gray = cv2.cvtColor(img, cv2.COLOR_BGR2GRAY)\n",
    "res, threshold = cv2.threshold(gray, 100, 255, cv2.THRESH_BINARY)\n",
    "plt.imshow(threshold, \"gray\")"
   ]
  },
  {
   "cell_type": "code",
   "execution_count": null,
   "id": "55e1b2c6",
   "metadata": {},
   "outputs": [],
   "source": []
  }
 ],
 "metadata": {
  "kernelspec": {
   "display_name": "Python 3 (ipykernel)",
   "language": "python",
   "name": "python3"
  },
  "language_info": {
   "codemirror_mode": {
    "name": "ipython",
    "version": 3
   },
   "file_extension": ".py",
   "mimetype": "text/x-python",
   "name": "python",
   "nbconvert_exporter": "python",
   "pygments_lexer": "ipython3",
   "version": "3.7.16"
  },
  "vscode": {
   "interpreter": {
    "hash": "a0a58ecce5e40c13f1a0efe661d0afeed68851a58751c40de81077ab12c6cd5d"
   }
  }
 },
 "nbformat": 4,
 "nbformat_minor": 5
}
